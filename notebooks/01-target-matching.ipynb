{
 "cells": [
  {
   "cell_type": "markdown",
   "metadata": {},
   "source": [
    "# 1. Target Matching & Concept Extraction\n",
    "\n",
    "# Overview\n",
    "In this notebook, we'll look at how we can extract mentions of COVID-19 from clinical text. \n",
    "\n",
    "There are multiple methods for extract concepts from clinical text. We implemented a rule-based system, in which we curate patterns to match spans of text which represent our clinical document. SpaCy offers useful methods for [rule-based matching](https://spacy.io/usage/rule-based-matching/). We'll use extensions of these methods to identify COVID-19 texts. "
   ]
  },
  {
   "cell_type": "code",
   "execution_count": 1,
   "metadata": {},
   "outputs": [],
   "source": [
    "import cov_bsv\n",
    "from cov_bsv import visualize_doc"
   ]
  },
  {
   "cell_type": "code",
   "execution_count": 2,
   "metadata": {},
   "outputs": [],
   "source": [
    "nlp = cov_bsv.load(enable=[\"tagger\", \"parser\"], load_rules=False)"
   ]
  },
  {
   "cell_type": "code",
   "execution_count": 3,
   "metadata": {},
   "outputs": [
    {
     "data": {
      "text/plain": [
       "['tagger', 'parser']"
      ]
     },
     "execution_count": 3,
     "metadata": {},
     "output_type": "execute_result"
    }
   ],
   "source": [
    "nlp.pipe_names"
   ]
  },
  {
   "cell_type": "code",
   "execution_count": 4,
   "metadata": {},
   "outputs": [],
   "source": [
    "text = \"\"\"Patient presents to be tested for COVID-19. \n",
    "His wife recently tested positive for novel coronavirus.\n",
    "\n",
    "SARS-COV-2 results came back positive. \n",
    "\"\"\""
   ]
  },
  {
   "cell_type": "code",
   "execution_count": 5,
   "metadata": {},
   "outputs": [
    {
     "name": "stdout",
     "output_type": "stream",
     "text": [
      "Patient presents to be tested for COVID-19. \n",
      "His wife recently tested positive for novel coronavirus.\n",
      "\n",
      "SARS-COV-2 results came back positive. \n",
      "\n"
     ]
    }
   ],
   "source": [
    "print(text)"
   ]
  },
  {
   "cell_type": "markdown",
   "metadata": {},
   "source": [
    "MedSpaCy extends these using the `TargetMatcher` class, which we'll use to extract our target concepts. Rules defined by a class called `TargetRule`. Extracted concepts will be stored as `Span` objects in `doc.ents`."
   ]
  },
  {
   "cell_type": "code",
   "execution_count": 6,
   "metadata": {},
   "outputs": [],
   "source": [
    "from medspacy.ner import TargetMatcher, TargetRule"
   ]
  },
  {
   "cell_type": "code",
   "execution_count": 7,
   "metadata": {},
   "outputs": [
    {
     "data": {
      "text/plain": [
       "<target_matcher.target_matcher.TargetMatcher at 0x11981bf98>"
      ]
     },
     "execution_count": 7,
     "metadata": {},
     "output_type": "execute_result"
    }
   ],
   "source": [
    "target_matcher = TargetMatcher(nlp)\n",
    "target_matcher"
   ]
  },
  {
   "cell_type": "code",
   "execution_count": 8,
   "metadata": {},
   "outputs": [],
   "source": [
    "nlp.add_pipe(target_matcher)"
   ]
  },
  {
   "cell_type": "markdown",
   "metadata": {},
   "source": [
    "Target rules require two positional arguments:\n",
    "- `literal`: A span of text to match in the text (case insensitive)\n",
    "- `category`: The label to assign to extracted concepts\n",
    "Let's define rules now to extract COVID-19 from our example text. Note that there are several forms and synonyms.\n",
    "\n",
    "You can also define Token patterns in the `patterns` argument, which will override the phrase in `literal` (see the [spaCy documentation](https://spacy.io/usage/rule-based-matching/) on rule-based matching for more details):"
   ]
  },
  {
   "cell_type": "code",
   "execution_count": 9,
   "metadata": {},
   "outputs": [],
   "source": [
    "target_rules = [\n",
    "    TargetRule(literal=\"SARS-COV-2\", category=\"COVID-19\"),\n",
    "    TargetRule(literal=\"novel coronavirus\", category=\"COVID-19\"),\n",
    "    TargetRule(literal=\"COVID-19\", category=\"COVID-19\",\n",
    "              pattern=[{\"LOWER\": {\"REGEX\": \"covid-?19\"}}]),\n",
    "    \n",
    "]"
   ]
  },
  {
   "cell_type": "code",
   "execution_count": 10,
   "metadata": {},
   "outputs": [],
   "source": [
    "target_matcher.add(target_rules)"
   ]
  },
  {
   "cell_type": "code",
   "execution_count": 11,
   "metadata": {},
   "outputs": [],
   "source": [
    "doc = nlp(text)"
   ]
  },
  {
   "cell_type": "code",
   "execution_count": 12,
   "metadata": {},
   "outputs": [
    {
     "data": {
      "text/html": [
       "<h2>Document Classification: None</h2><div class=\"entities\" style=\"line-height: 2.5; direction: ltr\">Patient presents to be tested for \n",
       "<mark class=\"entity\" style=\"background: #1f77b4; padding: 0.45em 0.6em; margin: 0 0.25em; line-height: 1; border-radius: 0.35em;\">\n",
       "    COVID-19\n",
       "    <span style=\"font-size: 0.8em; font-weight: bold; line-height: 1; border-radius: 0.35em; text-transform: uppercase; vertical-align: middle; margin-left: 0.5rem\">COVID-19</span>\n",
       "</mark>\n",
       ". </br>His wife recently tested positive for \n",
       "<mark class=\"entity\" style=\"background: #1f77b4; padding: 0.45em 0.6em; margin: 0 0.25em; line-height: 1; border-radius: 0.35em;\">\n",
       "    novel coronavirus\n",
       "    <span style=\"font-size: 0.8em; font-weight: bold; line-height: 1; border-radius: 0.35em; text-transform: uppercase; vertical-align: middle; margin-left: 0.5rem\">COVID-19</span>\n",
       "</mark>\n",
       ".</br></br>\n",
       "<mark class=\"entity\" style=\"background: #1f77b4; padding: 0.45em 0.6em; margin: 0 0.25em; line-height: 1; border-radius: 0.35em;\">\n",
       "    SARS-COV-2\n",
       "    <span style=\"font-size: 0.8em; font-weight: bold; line-height: 1; border-radius: 0.35em; text-transform: uppercase; vertical-align: middle; margin-left: 0.5rem\">COVID-19</span>\n",
       "</mark>\n",
       " results came back positive. \n",
       "</div>"
      ],
      "text/plain": [
       "<IPython.core.display.HTML object>"
      ]
     },
     "metadata": {},
     "output_type": "display_data"
    }
   ],
   "source": [
    "cov_bsv.visualize_doc(doc)"
   ]
  },
  {
   "cell_type": "code",
   "execution_count": null,
   "metadata": {},
   "outputs": [],
   "source": []
  },
  {
   "cell_type": "markdown",
   "metadata": {},
   "source": [
    "# Concept Tagging\n",
    "There are many slight variations and combinations of concepts. To help reduce the complexity of the rules, one further step we took in our pipeline was to add a `concept_tag` attribute to each token. This acts essentially as a semantic label and allows us to define simpler rules to match variations and synonyms.\n",
    "\n",
    "For example, let's say that we want to match spans of text which contain COVID-19 along with an associated diagnosis, such as **\"pneumonia\"** or **\"respiratory failure\"**. Rather than enumerating every combination of **\"COVID-19\"**/**\"SARS-COV-2\"** + **\"pneumonia\"**/**\"pna\"**/**\"respiratory failure\"** ..., we will first assign tokens in those shorter phrases `concept_tags` representing these labels. MedSpaCy provides the `ConceptTagger` for this, and it behaves very similarly to the `TargetMatcher`:"
   ]
  },
  {
   "cell_type": "code",
   "execution_count": 13,
   "metadata": {},
   "outputs": [],
   "source": [
    "text2 = \"\"\"Patient admitted due to COVID-19 pneumonia.\n",
    "Diagnoses:\n",
    "- SARS-COV-2 respiratory failure\n",
    "\"\"\""
   ]
  },
  {
   "cell_type": "code",
   "execution_count": 14,
   "metadata": {},
   "outputs": [],
   "source": [
    "from medspacy.ner import ConceptTagger"
   ]
  },
  {
   "cell_type": "code",
   "execution_count": 15,
   "metadata": {},
   "outputs": [],
   "source": [
    "concept_tagger = ConceptTagger(nlp)"
   ]
  },
  {
   "cell_type": "code",
   "execution_count": 16,
   "metadata": {},
   "outputs": [],
   "source": [
    "concept_tag_rules = [\n",
    "    TargetRule(\"COVID-19\", \"COVID-19\"),\n",
    "    TargetRule(\"SARS-COV-2\", \"COVID-19\"),\n",
    "    TargetRule(\"novel coronavirus\", \"COVID-19\"),\n",
    "    TargetRule(\"pneumonia\", \"ASSOCIATED_DIAGNOSIS\",\n",
    "              pattern=[{\"LOWER\": {\"IN\": [\"pneumonia\", \"pna\"]}}]),\n",
    "    TargetRule(\"respiratory failure\", \"ASSOCIATED_DIAGNOSIS\"),\n",
    "]"
   ]
  },
  {
   "cell_type": "code",
   "execution_count": 17,
   "metadata": {},
   "outputs": [],
   "source": [
    "concept_tagger.add(concept_tag_rules)"
   ]
  },
  {
   "cell_type": "markdown",
   "metadata": {},
   "source": [
    "We'll add it to our pipeline preceding the target matcher:"
   ]
  },
  {
   "cell_type": "code",
   "execution_count": 18,
   "metadata": {},
   "outputs": [],
   "source": [
    "nlp.add_pipe(concept_tagger, before=\"target_matcher\")"
   ]
  },
  {
   "cell_type": "code",
   "execution_count": 19,
   "metadata": {},
   "outputs": [
    {
     "data": {
      "text/plain": [
       "['tagger', 'parser', 'concept_tagger', 'target_matcher']"
      ]
     },
     "execution_count": 19,
     "metadata": {},
     "output_type": "execute_result"
    }
   ],
   "source": [
    "nlp.pipe_names"
   ]
  },
  {
   "cell_type": "code",
   "execution_count": 20,
   "metadata": {},
   "outputs": [],
   "source": [
    "doc = nlp(text2)"
   ]
  },
  {
   "cell_type": "markdown",
   "metadata": {},
   "source": [
    "Now let's look at the concept tags assigned to each token:"
   ]
  },
  {
   "cell_type": "code",
   "execution_count": 21,
   "metadata": {},
   "outputs": [
    {
     "name": "stdout",
     "output_type": "stream",
     "text": [
      "Patient -> \n",
      "admitted -> \n",
      "due -> \n",
      "to -> \n",
      "COVID-19 -> COVID-19\n",
      "pneumonia -> ASSOCIATED_DIAGNOSIS\n",
      ". -> \n",
      "\n",
      " -> \n",
      "Diagnoses -> \n",
      ": -> \n",
      "\n",
      " -> \n",
      "- -> \n",
      "SARS -> COVID-19\n",
      "- -> COVID-19\n",
      "COV-2 -> COVID-19\n",
      "respiratory -> ASSOCIATED_DIAGNOSIS\n",
      "failure -> ASSOCIATED_DIAGNOSIS\n",
      "\n",
      " -> \n"
     ]
    }
   ],
   "source": [
    "for token in doc:\n",
    "    print(token, token._.concept_tag, sep=\" -> \")"
   ]
  },
  {
   "cell_type": "markdown",
   "metadata": {},
   "source": [
    "Now we can define rules which look for **one or more COVID-19 tokens** followed by **one or more associated diagnosis tokens** (and reversed):"
   ]
  },
  {
   "cell_type": "code",
   "execution_count": 22,
   "metadata": {},
   "outputs": [],
   "source": [
    "new_target_rules = [\n",
    "    TargetRule(literal=\"<COVID-19>\", category=\"COVID-19\",\n",
    "              pattern=[\n",
    "                  {\"_\": {\"concept_tag\": \"COVID-19\"}, \"OP\": \"+\"},\n",
    "              ]),\n",
    "    TargetRule(literal=\"<ASSOCIATED_DIAGNOSIS> <COVID-19>\", category=\"COVID-19\",\n",
    "              pattern=[\n",
    "                  {\"_\": {\"concept_tag\": \"ASSOCIATED_DIAGNOSIS\"}, \"OP\": \"+\"},\n",
    "                  {\"_\": {\"concept_tag\": \"COVID-19\"}, \"OP\": \"+\"},\n",
    "              ]),\n",
    "    TargetRule(literal=\"novel coronavirus\", category=\"COVID-19\",\n",
    "              pattern=[\n",
    "                  {\"_\": {\"concept_tag\": \"COVID-19\"}, \"OP\": \"+\"},\n",
    "                  {\"_\": {\"concept_tag\": \"ASSOCIATED_DIAGNOSIS\"}, \"OP\": \"+\"},\n",
    "                  \n",
    "              ]),\n",
    "    \n",
    "]"
   ]
  },
  {
   "cell_type": "code",
   "execution_count": 23,
   "metadata": {},
   "outputs": [],
   "source": [
    "target_matcher.add(new_target_rules)"
   ]
  },
  {
   "cell_type": "code",
   "execution_count": 24,
   "metadata": {},
   "outputs": [],
   "source": [
    "doc2 = nlp(text2)"
   ]
  },
  {
   "cell_type": "code",
   "execution_count": 25,
   "metadata": {},
   "outputs": [
    {
     "data": {
      "text/html": [
       "<h2>Document Classification: None</h2><div class=\"entities\" style=\"line-height: 2.5; direction: ltr\">Patient admitted due to \n",
       "<mark class=\"entity\" style=\"background: #1f77b4; padding: 0.45em 0.6em; margin: 0 0.25em; line-height: 1; border-radius: 0.35em;\">\n",
       "    COVID-19 pneumonia\n",
       "    <span style=\"font-size: 0.8em; font-weight: bold; line-height: 1; border-radius: 0.35em; text-transform: uppercase; vertical-align: middle; margin-left: 0.5rem\">COVID-19</span>\n",
       "</mark>\n",
       ".</br>Diagnoses:</br>- \n",
       "<mark class=\"entity\" style=\"background: #1f77b4; padding: 0.45em 0.6em; margin: 0 0.25em; line-height: 1; border-radius: 0.35em;\">\n",
       "    SARS-COV-2 respiratory failure\n",
       "    <span style=\"font-size: 0.8em; font-weight: bold; line-height: 1; border-radius: 0.35em; text-transform: uppercase; vertical-align: middle; margin-left: 0.5rem\">COVID-19</span>\n",
       "</mark>\n",
       "\n",
       "</div>"
      ],
      "text/plain": [
       "<IPython.core.display.HTML object>"
      ]
     },
     "metadata": {},
     "output_type": "display_data"
    }
   ],
   "source": [
    "cov_bsv.visualize_doc(doc2)"
   ]
  },
  {
   "cell_type": "code",
   "execution_count": 26,
   "metadata": {},
   "outputs": [
    {
     "name": "stdout",
     "output_type": "stream",
     "text": [
      "COVID-19 pneumonia\n",
      "\t COVID-19 COVID-19\n",
      "\t pneumonia ASSOCIATED_DIAGNOSIS\n",
      "\n",
      "SARS-COV-2 respiratory failure\n",
      "\t SARS COVID-19\n",
      "\t - COVID-19\n",
      "\t COV-2 COVID-19\n",
      "\t respiratory ASSOCIATED_DIAGNOSIS\n",
      "\t failure ASSOCIATED_DIAGNOSIS\n",
      "\n"
     ]
    }
   ],
   "source": [
    "for ent in doc2.ents:\n",
    "    print(ent)\n",
    "    for token in ent:\n",
    "        print(\"\\t\", token, token._.concept_tag)\n",
    "    print()"
   ]
  },
  {
   "cell_type": "markdown",
   "metadata": {},
   "source": [
    "# Marking spans to ignore\n",
    "Some spans of text are going to be problematic for our pipeline. For example, a statement such as **\"COVID-19 infection protocols\"** or **\"COVID-19 pandemic\"** are not referring to a diagnosis of COVID-19. This also applies to modifiers, such as **\"negative pressure room\"** which could be confused with a negative status.\n",
    "\n",
    "The `target_matcher` will extract the longest matching span of text. To exclude these phrases, then, we will write rules using an **\"IGNORE\"** label to differentiate these longer, more specific spans from normal mentions of COVID-19.\n"
   ]
  },
  {
   "cell_type": "code",
   "execution_count": 27,
   "metadata": {},
   "outputs": [],
   "source": [
    "ignore_rules = [\n",
    "    TargetRule(\"COVID-19 infection protocols\", \"IGNORE\"),\n",
    "    TargetRule(\"COVID-19 pandemic\", \"IGNORE\"),\n",
    "    TargetRule(\"negative pressure room\", \"IGNORE\"),\n",
    "]"
   ]
  },
  {
   "cell_type": "code",
   "execution_count": 28,
   "metadata": {},
   "outputs": [],
   "source": [
    "target_matcher.add(ignore_rules)"
   ]
  },
  {
   "cell_type": "code",
   "execution_count": 29,
   "metadata": {},
   "outputs": [],
   "source": [
    "texts = [\n",
    "    \"Hospital is following COVID-19 infection protocols.\",\n",
    "    \"He was laid off of his job due to the COVID-19 pandemic.\",\n",
    "    \"Patient placed in negative pressure room due to positive COVID status.\"\n",
    "]"
   ]
  },
  {
   "cell_type": "code",
   "execution_count": 30,
   "metadata": {},
   "outputs": [],
   "source": [
    "docs = list(nlp.pipe(texts))"
   ]
  },
  {
   "cell_type": "code",
   "execution_count": 31,
   "metadata": {},
   "outputs": [
    {
     "data": {
      "text/html": [
       "<h2>Document Classification: None</h2><div class=\"entities\" style=\"line-height: 2.5; direction: ltr\">Hospital is following \n",
       "<mark class=\"entity\" style=\"background: #1f77b4; padding: 0.45em 0.6em; margin: 0 0.25em; line-height: 1; border-radius: 0.35em;\">\n",
       "    COVID-19 infection protocols\n",
       "    <span style=\"font-size: 0.8em; font-weight: bold; line-height: 1; border-radius: 0.35em; text-transform: uppercase; vertical-align: middle; margin-left: 0.5rem\">IGNORE</span>\n",
       "</mark>\n",
       ".</div>"
      ],
      "text/plain": [
       "<IPython.core.display.HTML object>"
      ]
     },
     "metadata": {},
     "output_type": "display_data"
    },
    {
     "data": {
      "text/html": [
       "<h2>Document Classification: None</h2><div class=\"entities\" style=\"line-height: 2.5; direction: ltr\">He was laid off of his job due to the \n",
       "<mark class=\"entity\" style=\"background: #1f77b4; padding: 0.45em 0.6em; margin: 0 0.25em; line-height: 1; border-radius: 0.35em;\">\n",
       "    COVID-19 pandemic\n",
       "    <span style=\"font-size: 0.8em; font-weight: bold; line-height: 1; border-radius: 0.35em; text-transform: uppercase; vertical-align: middle; margin-left: 0.5rem\">IGNORE</span>\n",
       "</mark>\n",
       ".</div>"
      ],
      "text/plain": [
       "<IPython.core.display.HTML object>"
      ]
     },
     "metadata": {},
     "output_type": "display_data"
    },
    {
     "data": {
      "text/html": [
       "<h2>Document Classification: None</h2><div class=\"entities\" style=\"line-height: 2.5; direction: ltr\">Patient placed in \n",
       "<mark class=\"entity\" style=\"background: #1f77b4; padding: 0.45em 0.6em; margin: 0 0.25em; line-height: 1; border-radius: 0.35em;\">\n",
       "    negative pressure room\n",
       "    <span style=\"font-size: 0.8em; font-weight: bold; line-height: 1; border-radius: 0.35em; text-transform: uppercase; vertical-align: middle; margin-left: 0.5rem\">IGNORE</span>\n",
       "</mark>\n",
       " due to positive COVID status.</div>"
      ],
      "text/plain": [
       "<IPython.core.display.HTML object>"
      ]
     },
     "metadata": {},
     "output_type": "display_data"
    }
   ],
   "source": [
    "for doc in docs:\n",
    "    visualize_doc(doc)"
   ]
  },
  {
   "cell_type": "markdown",
   "metadata": {},
   "source": [
    "# Next Steps\n",
    "We can now identify phrases signifying COVID-19 in our text. However, even though a text mentions COVID-19, that doesn't mean the patient is diagnosed with COVID-19. In the next notebook we'll see how we can used the context of a mention to assert attributes like positive status or negation.\n",
    "\n",
    "[02-attribute-assertion.ipynb](02-attribute-assertion.ipynb)"
   ]
  },
  {
   "cell_type": "code",
   "execution_count": null,
   "metadata": {},
   "outputs": [],
   "source": []
  }
 ],
 "metadata": {
  "kernelspec": {
   "display_name": "Python 3",
   "language": "python",
   "name": "python3"
  },
  "language_info": {
   "codemirror_mode": {
    "name": "ipython",
    "version": 3
   },
   "file_extension": ".py",
   "mimetype": "text/x-python",
   "name": "python",
   "nbconvert_exporter": "python",
   "pygments_lexer": "ipython3",
   "version": "3.6.10"
  }
 },
 "nbformat": 4,
 "nbformat_minor": 2
}
